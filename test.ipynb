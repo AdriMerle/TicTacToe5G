{
 "cells": [
  {
   "cell_type": "code",
   "execution_count": 9,
   "metadata": {},
   "outputs": [
    {
     "name": "stdout",
     "output_type": "stream",
     "text": [
      "{\n",
      "    \"code\": 0,\n",
      "    \"status\": \"Ok\",\n",
      "    \"command\": \"http://172.24.153.108:8080/qpe/getTagData?mode=json&tag=a4da22e16cda\",\n",
      "    \"message\": \"Tag data\",\n",
      "    \"responseTS\": 1734357052212,\n",
      "    \"version\": \"1.0\",\n",
      "    \"formatId\": \"defaultLocationAndInfo\",\n",
      "    \"formatName\": \"defaultLocationAndInfo\",\n",
      "    \"tags\": [\n",
      "        {\n",
      "            \"tagId\": \"a4da22e16cda\",\n",
      "            \"tagName\": \"GREEN_0002\",\n",
      "            \"lastPacketTS\": 1734356991907,\n",
      "            \"color\": \"#00FF33\",\n",
      "            \"tagGroupName\": \"GREEN\",\n",
      "            \"locationType\": \"presence\",\n",
      "            \"locationMovementStatus\": \"stationary\",\n",
      "            \"locationRadius\": 107.0,\n",
      "            \"location\": [\n",
      "                1.5,\n",
      "                2.5,\n",
      "                1.2\n",
      "            ],\n",
      "            \"locationTS\": 1734356991914,\n",
      "            \"locationCoordSysId\": \"70c5e326-b73f-4b0a-9259-16bb7b2527b6\",\n",
      "            \"locationCoordSysName\": \"TickTackToe\",\n",
      "            \"locationZoneIds\": null,\n",
      "            \"locationZoneNames\": null,\n",
      "            \"button1State\": \"notPushed\",\n",
      "            \"button1StateTS\": 1734356991907,\n",
      "            \"button1LastPressTS\": 1734355642918,\n",
      "            \"batteryAlarm\": \"ok\",\n",
      "            \"batteryAlarmTS\": 1734356991907,\n",
      "            \"rssi\": 32,\n",
      "            \"rssiLocatorCount\": 1,\n",
      "            \"lastSeenTS\": 1734356991907\n",
      "        }\n",
      "    ]\n",
      "}\n"
     ]
    }
   ],
   "source": [
    "# jaune = a4da22e16cda\n",
    "# rouge = a4da22e1701e\n",
    "\n",
    "import requests\n",
    "import json\n",
    "\n",
    "# URL de base de l'API Quuppa\n",
    "base_url = \"http://172.24.153.108:8080/qpe/getTagData\"\n",
    "\n",
    "# Paramètres de la requête\n",
    "params = {\n",
    "    \"mode\": \"json\",\n",
    "    \"tag\" : \"a4da22e16cda\",\n",
    "}\n",
    "\n",
    "# Envoyer la requête GET à l'API\n",
    "response = requests.get(base_url, params=params)\n",
    "\n",
    "# Vérifier le statut de la réponse\n",
    "if response.status_code == 200:\n",
    "    # Si la requête est réussie, afficher les données JSON\n",
    "    data = response.json()\n",
    "    print(json.dumps(data, indent=4))\n",
    "else:\n",
    "    # Si la requête échoue, afficher le code d'erreur et le message\n",
    "    print(f\"Erreur: {response.status_code}\")\n",
    "    print(response.text)\n"
   ]
  }
 ],
 "metadata": {
  "kernelspec": {
   "display_name": ".venv",
   "language": "python",
   "name": "python3"
  },
  "language_info": {
   "codemirror_mode": {
    "name": "ipython",
    "version": 3
   },
   "file_extension": ".py",
   "mimetype": "text/x-python",
   "name": "python",
   "nbconvert_exporter": "python",
   "pygments_lexer": "ipython3",
   "version": "3.13.1"
  }
 },
 "nbformat": 4,
 "nbformat_minor": 2
}
